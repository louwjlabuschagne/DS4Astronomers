{
 "cells": [
  {
   "cell_type": "markdown",
   "metadata": {},
   "source": [
    "Basic Concepts\n",
    "+ Gravity for astronomy and c\n",
    "+ can do N-body for Molecular. \n",
    "+ trying to understand things that you can only get through simulation"
   ]
  },
  {
   "cell_type": "markdown",
   "metadata": {},
   "source": [
    "many types of \n",
    "+ collisional \n",
    "    + just as many particles as things in system\n",
    "    + have a larger dynamical range\n",
    "    + like binary star would be very taxing\n",
    "    + r.o.t. can get around 100000 particles\n",
    "+ collisionless\n",
    "    + # of particles << # of things\n",
    "    + sampling the distribution function\n",
    "    + the more particles you have the finer your sampling is\n",
    "    + can be gravity\n",
    "+ hydrodynamic\n",
    "    + add some fluid dynamics for gas\n",
    "    + stars can be just effected by gravity\n",
    "    + but once you have gas, you have to take into account gas fuilds\n",
    "    \n",
    "+ magneto-hydrodynamic\n",
    "    + magnetic dynamics \n",
    "    + for star formuation"
   ]
  },
  {
   "cell_type": "markdown",
   "metadata": {},
   "source": [
    "# 3 steps:\n",
    "+ Init conditionals\n",
    "    + comological easiest for inital conditions\n",
    "    + how to make initial condition\n",
    "+ Evolutions\n",
    "    + n-body simulation is the core here\n",
    "+ Analysis\n",
    "    + how real is it\n",
    "    + what do you get out of it"
   ]
  },
  {
   "cell_type": "markdown",
   "metadata": {},
   "source": [
    "# 2 body problem\n",
    "![](figs/2_body.png)\n",
    "\n",
    "\n",
    "smoothing for each particle will be at least $\\epsilon$ distance apart, have to tune $\\epsilon$, so an option for $\\epsilon$ will be to use $min(R)$ for individual galaxies\n",
    "\n",
    "![](figs/equations.png)"
   ]
  },
  {
   "cell_type": "markdown",
   "metadata": {},
   "source": [
    "This is the naive approach that doesn't work\n",
    "\n",
    "![](figs/spiral1.png)\n",
    "\n",
    "Timesteps = 400\n",
    "\n",
    "![](figs/spiral2.png)\n",
    "Timesteps = 2000\n",
    "\n",
    "Wrongs because of error that's comming in\n",
    "\n",
    "# LeapFrog\n",
    "\n",
    "![](figs/spiral3_leapfrog.png)\n",
    "Timesteps = 2000\n",
    "\n",
    "![](figs/spiral3_leapfrog_200.png)\n",
    "Timesteps= 200"
   ]
  },
  {
   "cell_type": "markdown",
   "metadata": {},
   "source": [
    "2 ways to do adaptive timesteps\n",
    "+ everything should have the same timesteps\n",
    "    + so calculate acceleration and from there get timestamps\n",
    "    + get max acceraltion and use that to get $t$\n",
    "\n",
    "+ things that have dynamical times\n",
    "    + more planetary system (ort cloud doesn't care about inside)\n",
    "    + so inner parts have faster timestamps\n",
    "\n",
    "+ some systems conserves\n",
    "    + convserves energy\n",
    "    + but doesn't conserve momentum\n",
    "\n",
    "if orbitting:\n",
    "+ $E_{Tot}$ = $E_k$+$E_p$\n",
    "\n",
    "![](figs/leapfrog_withWeirdVelocities.png)\n",
    "\n",
    "+ Points apart due to peri-centre and velocity increasing when particle close\n",
    "\n",
    "## times spin around\n",
    "+ total time\n",
    "+ related to initial conditionas - give you the period \n",
    "\n",
    "\n",
    "## different n-bodies for different simulations\n",
    "+ design for globular cluster \n",
    "+ design \n",
    "\n",
    "## choas\n",
    "+ a slight change in init conditions change outcomes a lot\n",
    "+ like double pendulum\n",
    "+ so sensitive to intial conditions\n",
    "+ "
   ]
  },
  {
   "cell_type": "code",
   "execution_count": null,
   "metadata": {
    "collapsed": true
   },
   "outputs": [],
   "source": []
  }
 ],
 "metadata": {
  "kernelspec": {
   "display_name": "Python 3",
   "language": "python",
   "name": "python3"
  },
  "language_info": {
   "codemirror_mode": {
    "name": "ipython",
    "version": 3
   },
   "file_extension": ".py",
   "mimetype": "text/x-python",
   "name": "python",
   "nbconvert_exporter": "python",
   "pygments_lexer": "ipython3",
   "version": "3.6.1"
  }
 },
 "nbformat": 4,
 "nbformat_minor": 2
}
