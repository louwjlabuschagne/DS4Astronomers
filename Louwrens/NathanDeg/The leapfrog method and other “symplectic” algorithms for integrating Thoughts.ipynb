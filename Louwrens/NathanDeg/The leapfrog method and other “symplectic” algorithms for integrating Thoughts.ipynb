{
 "cells": [
  {
   "cell_type": "markdown",
   "metadata": {},
   "source": [
    "# Intro\n",
    "+ In an astronomical setting,“molecular dynamics” simulations are called “N-body” simulations\n",
    "+ Leapfrog suited for molecular dynamics simulations called N-body simulations as:\n",
    "    + it's simple\n",
    "    + has a sort of \"global\" stability (algo is symplectic) \n",
    "    \n",
    "# Leepfrog algo\n",
    "+ Symplectic\n",
    "    + are preserving\n",
    "    + Since the area preserving property is an exact feature of the equations, it is desirable that a numerical approximation preserve it. Such approximations are called symplectic.\n",
    "+ As $$  \\int{\\int{  ... dx′dp′}} =     \\int{{... detJ dxdp}}$$ \n",
    "+ symplectic algorithm has $$detJ = 1$$"
   ]
  },
  {
   "cell_type": "code",
   "execution_count": null,
   "metadata": {
    "collapsed": true
   },
   "outputs": [],
   "source": []
  }
 ],
 "metadata": {
  "kernelspec": {
   "display_name": "Python 3",
   "language": "python",
   "name": "python3"
  },
  "language_info": {
   "codemirror_mode": {
    "name": "ipython",
    "version": 3
   },
   "file_extension": ".py",
   "mimetype": "text/x-python",
   "name": "python",
   "nbconvert_exporter": "python",
   "pygments_lexer": "ipython3",
   "version": "3.6.1"
  }
 },
 "nbformat": 4,
 "nbformat_minor": 2
}
