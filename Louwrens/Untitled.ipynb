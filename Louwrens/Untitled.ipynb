{
 "cells": [
  {
   "cell_type": "markdown",
   "metadata": {},
   "source": [
    "CASA - COMMON ASTRONOMICAL Software Application\n",
    "\n",
    "Lense and a receptor - observe $V_ij$\n",
    "\n",
    "Any celestial source we can take the fourier transform, \n",
    "\n",
    "$f(antenta1, antena2, \\mu, t)$?\n",
    "\n",
    "Dumbrate = Integration = 10seconds\n",
    "\n",
    "Say we have N telescopes then we have $\\frac{N}{N-1}$ \n",
    "\n",
    "+ Flux callobrator, need boiling water and ice - so we observe something that we know the flux\n",
    "+ We get a$i$+b, or A$<\\theta$\n",
    "+ look at absolute fluxes, and then use phase\n",
    "\n",
    "**Look up phase referencing**\n",
    "\n",
    "2 things for casa\n",
    "+ ipython interface \n",
    "+ toolboxes - python bind to C++\n",
    "+ CASApy - \n",
    "+ IPython has namespace - space where all the variables are stored, if you don't want to do that - \n",
    "+ MS - measurement set\n",
    "+ viewer and \n",
    "\n",
    "\n",
    "Ipython\n",
    "+ he's using racetrack\n",
    "+ -x x11 forwarding\n",
    "+ Screen - ssh into machine, if the connection is severed then it will continue\n",
    "+ Singularity give you a shell in the VM\n",
    "\n",
    "There is a difference between the image domain and the visual domain\n",
    "\n",
    "+ If CASA - 30 latitude, "
   ]
  },
  {
   "cell_type": "code",
   "execution_count": null,
   "metadata": {
    "collapsed": true
   },
   "outputs": [],
   "source": []
  }
 ],
 "metadata": {
  "kernelspec": {
   "display_name": "Python 3",
   "language": "python",
   "name": "python3"
  },
  "language_info": {
   "codemirror_mode": {
    "name": "ipython",
    "version": 3
   },
   "file_extension": ".py",
   "mimetype": "text/x-python",
   "name": "python",
   "nbconvert_exporter": "python",
   "pygments_lexer": "ipython3",
   "version": "3.6.1"
  }
 },
 "nbformat": 4,
 "nbformat_minor": 2
}
