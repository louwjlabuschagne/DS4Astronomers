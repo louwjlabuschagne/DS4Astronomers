{
 "cells": [
  {
   "cell_type": "markdown",
   "metadata": {},
   "source": [
    "This is my exploration of SDSS website (http://skyserver.sdss.org/dr9/en)"
   ]
  },
  {
   "cell_type": "markdown",
   "metadata": {},
   "source": [
    "The home page:\n",
    "![](figs/SDSS_main_page.png)\n",
    "\n",
    "The idea of redshift revised:\n",
    "![](figs/redShift.png)"
   ]
  },
  {
   "cell_type": "markdown",
   "metadata": {
    "collapsed": true
   },
   "source": [
    "Looking at the default ImgCutout.asmx image at http://skyservice.pha.jhu.edu/DR9/ImgCutout/getjpeg.aspx?ra=145.267&dec=34.733&scale=0.7922&width=400&height=400&opt=GSt\n",
    "\n",
    "![](http://skyservice.pha.jhu.edu/DR9/ImgCutout/getjpeg.aspx?ra=145.267&dec=34.733&scale=0.7922&width=400&height=400&opt=GSt)\n",
    "\n",
    "playing setting the scale=0.1\n",
    "\n",
    "![](http://skyservice.pha.jhu.edu/DR9/ImgCutout/getjpeg.aspx?ra=145.267&dec=34.733&scale=0.1&width=400&height=400&opt=GSt)\n",
    "\n"
   ]
  },
  {
   "cell_type": "code",
   "execution_count": 61,
   "metadata": {
    "collapsed": true
   },
   "outputs": [],
   "source": [
    "from astropy import units as u\n",
    "from astropy.coordinates import SkyCoord\n",
    "from astropy.coordinates import FK5\n",
    "from astropy.coordinates import Angle, Latitude, Longitude  # Angles\n",
    "c = SkyCoord(ra='14h03m12.5s', dec='+54d20m56s', frame='icrs')\n",
    "\n",
    "def raDec2link(ra, dec):    \n",
    "    c = SkyCoord(ra=ra, dec=dec, frame='icrs')\n",
    "    ra = float(str(c.ra * u.deg).split(\" \")[0])\n",
    "    dec = float(str(c.dec * u.deg).split(\" \")[0])\n",
    "    link = \"http://skyservice.pha.jhu.edu/DR9/ImgCutout/getjpeg.aspx?ra=\"+str(ra)+\"&dec=\"+str(dec)+\"&scale=0.7922&width=400&height=400&opt=GSt\"\n",
    "    return(link)"
   ]
  },
  {
   "cell_type": "code",
   "execution_count": 62,
   "metadata": {},
   "outputs": [
    {
     "data": {
      "text/plain": [
       "'http://skyservice.pha.jhu.edu/DR9/ImgCutout/getjpeg.aspx?ra=210.80208333333331&dec=54.348888888888894&scale=0.7922&width=400&height=400&opt=GSt'"
      ]
     },
     "execution_count": 62,
     "metadata": {},
     "output_type": "execute_result"
    }
   ],
   "source": [
    "raDec2link('14h03m12.5s', '+54d20m56s')"
   ]
  },
  {
   "cell_type": "code",
   "execution_count": 41,
   "metadata": {
    "collapsed": true,
    "scrolled": true
   },
   "outputs": [],
   "source": [
    "c.transform_to(FK5)\n",
    "a = c.ra"
   ]
  },
  {
   "cell_type": "markdown",
   "metadata": {},
   "source": [
    "Next consulting https://ned.ipac.caltech.edu/ to find the  coordinates of the pinwheel galaxy:\n",
    "\n",
    "![](http://skyservice.pha.jhu.edu/DR9/ImgCutout/getjpeg.aspx?ra=210.80208333333331&dec=54.348888888888894&scale=50&width=400&height=400&opt=GSt)"
   ]
  },
  {
   "cell_type": "code",
   "execution_count": 58,
   "metadata": {
    "scrolled": false
   },
   "outputs": [
    {
     "data": {
      "text/plain": [
       "54.348888888888894"
      ]
     },
     "execution_count": 58,
     "metadata": {},
     "output_type": "execute_result"
    }
   ],
   "source": [
    "float(str(c.dec * u.deg).split(\" \")[0])"
   ]
  },
  {
   "cell_type": "code",
   "execution_count": null,
   "metadata": {
    "collapsed": true
   },
   "outputs": [],
   "source": []
  }
 ],
 "metadata": {
  "kernelspec": {
   "display_name": "Python 3",
   "language": "python",
   "name": "python3"
  },
  "language_info": {
   "codemirror_mode": {
    "name": "ipython",
    "version": 3
   },
   "file_extension": ".py",
   "mimetype": "text/x-python",
   "name": "python",
   "nbconvert_exporter": "python",
   "pygments_lexer": "ipython3",
   "version": "3.6.1"
  }
 },
 "nbformat": 4,
 "nbformat_minor": 2
}
