{
 "cells": [
  {
   "cell_type": "markdown",
   "metadata": {},
   "source": [
    "# CASA\n",
    "Common Astonomical Software Applications\n",
    "\n",
    "![](case_background.png)\n",
    "\n",
    "Tasks are to explore measurements and observations\n",
    "\n",
    "Flag tasks are to remove radio interference (cellphone towers etc.)\n",
    "\n",
    "```\n",
    "```"
   ]
  },
  {
   "cell_type": "markdown",
   "metadata": {},
   "source": [
    "```{python}\n",
    "CASA <i> saveinputs(taskname=task,outfile='t0.saved')\n",
    "CASA <i> execfile('t0.saved')\n",
    "\n",
    "CASA <i> listobs(vis='abc.ms')-astromoical informatio\n",
    "CASA <i> vishead(vis='abc.ms')-meta data\n",
    "\n",
    "#plotting\n",
    "CASA <i> viewer(vis='abc.ms')\n",
    "CASA <i> plotms(vis='abc.ms', xaxis='time', yaxis='amp')\n",
    "\n",
    "#flag data interactivly with plotms\n",
    "CASA <i> flagdata2(vis='abc.ms', manualflag=True,...)\n",
    "```\n",
    "\n",
    "\n",
    "\n"
   ]
  },
  {
   "cell_type": "markdown",
   "metadata": {},
   "source": [
    "## checking out IDIA cluster\n",
    "```{bash}\n",
    "\n",
    "louwjlabuschagne@helo:/users/frank/sim-tut$ ls /data/exp_soft/containers/\n",
    "\n",
    "casa-stable-5.1-dave.img  jupytercasa.img  kern-2.img      python-3.6.img   sourcefinding-9f3cd07.img  sourcefinding.img\n",
    "casa-stable.img           kern-2-dev.img   python-2.7.img  singularity-def  source-finding.img\n",
    "\n",
    "singularity shell /data/exp_soft/containers/kern-2.img #to start kern2 shell \n",
    "```\n",
    "\n",
    "BTW. cfg stands from config"
   ]
  },
  {
   "cell_type": "markdown",
   "metadata": {
    "collapsed": true
   },
   "source": [
    "# working through CASA lecture\n",
    "+ you have a Voltage Pattern (VP)\n",
    "+ can squint - important for observations far away\n",
    "+ CASA creates sky-equation\n",
    "+ then ueses sky-equation to make a prediction\n",
    "+ **thermal noise** section for noise setting\n",
    "\n",
    "\n",
    "## plots that simobserve give us\n",
    "![](figs/gauss-1.meerkat.observe.png)\n",
    "+ (LT) allivation as a function of time \n",
    "    + red thing shows window that we've observed\n",
    "+ (RT) antenna configuration "
   ]
  },
  {
   "cell_type": "code",
   "execution_count": null,
   "metadata": {
    "collapsed": true
   },
   "outputs": [],
   "source": [
    "#"
   ]
  }
 ],
 "metadata": {
  "kernelspec": {
   "display_name": "Python 3",
   "language": "python",
   "name": "python3"
  },
  "language_info": {
   "codemirror_mode": {
    "name": "ipython",
    "version": 3
   },
   "file_extension": ".py",
   "mimetype": "text/x-python",
   "name": "python",
   "nbconvert_exporter": "python",
   "pygments_lexer": "ipython3",
   "version": "3.6.1"
  }
 },
 "nbformat": 4,
 "nbformat_minor": 2
}
