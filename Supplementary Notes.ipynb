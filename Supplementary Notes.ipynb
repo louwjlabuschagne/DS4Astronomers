{
 "cells": [
  {
   "cell_type": "markdown",
   "metadata": {},
   "source": [
    "## Logistics \n",
    "+ Dr. Bradley Frank\n",
    "+ Prof. Russ Taylor\n",
    "+ Prof. Patrick Woudt\n",
    "\n",
    "## Tutorials: Inter University Institute for Data Intensie Astronomy, IDIA\n",
    "+ Access: https://idia-piplines.github.io/access\n",
    "    + via Jupyter-Hub or SSH\n",
    "\n",
    "+ 1 light-year = $9.5x10^{12}$ km\n",
    "+ 1 Ast"
   ]
  },
  {
   "cell_type": "code",
   "execution_count": null,
   "metadata": {
    "collapsed": true
   },
   "outputs": [],
   "source": []
  }
 ],
 "metadata": {
  "kernelspec": {
   "display_name": "Python 3",
   "language": "python",
   "name": "python3"
  },
  "language_info": {
   "codemirror_mode": {
    "name": "ipython",
    "version": 3
   },
   "file_extension": ".py",
   "mimetype": "text/x-python",
   "name": "python",
   "nbconvert_exporter": "python",
   "pygments_lexer": "ipython3",
   "version": "3.6.1"
  }
 },
 "nbformat": 4,
 "nbformat_minor": 2
}
